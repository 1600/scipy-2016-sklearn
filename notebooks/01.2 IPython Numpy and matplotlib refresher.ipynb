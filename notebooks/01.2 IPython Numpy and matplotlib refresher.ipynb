{
 "metadata": {
  "kernelspec": {
   "display_name": "Python 3",
   "language": "python",
   "name": "python3"
  },
  "language_info": {
   "codemirror_mode": {
    "name": "ipython",
    "version": 3
   },
   "file_extension": ".py",
   "mimetype": "text/x-python",
   "name": "python",
   "nbconvert_exporter": "python",
   "pygments_lexer": "ipython3",
   "version": "3.4.3"
  },
  "name": ""
 },
 "nbformat": 3,
 "nbformat_minor": 0,
 "worksheets": [
  {
   "cells": [
    {
     "cell_type": "markdown",
     "metadata": {},
     "source": [
      "IPython Notebooks\n",
      "==================\n",
      "* You can run a cell by pressing ``[shift] + [Enter]`` or by pressing the \"play\" button in the menu.\n",
      "* You can get help on a function or object by pressing ``[shift] + [tab]`` after the opening parenthesis ``function(``\n",
      "* You can also get help by executing ``function?``"
     ]
    },
    {
     "cell_type": "heading",
     "level": 2,
     "metadata": {},
     "source": [
      "Numpy Arrays"
     ]
    },
    {
     "cell_type": "markdown",
     "metadata": {},
     "source": [
      "Manipulating `numpy` arrays is an important part of doing machine learning\n",
      "(or, really, any type of scientific computation) in python.  This will likely\n",
      "be review for most: we'll quickly go through some of the most important features."
     ]
    },
    {
     "cell_type": "code",
     "collapsed": false,
     "input": [
      "import numpy as np\n",
      "\n",
      "# Generating a random array\n",
      "X = np.random.random((3, 5))  # a 3 x 5 array\n",
      "\n",
      "print(X)"
     ],
     "language": "python",
     "metadata": {},
     "outputs": []
    },
    {
     "cell_type": "code",
     "collapsed": false,
     "input": [
      "# Accessing elements\n",
      "\n",
      "# get a single element\n",
      "print(X[0, 0])\n",
      "\n",
      "# get a row\n",
      "print(X[1])\n",
      "\n",
      "# get a column\n",
      "print(X[:, 1])"
     ],
     "language": "python",
     "metadata": {},
     "outputs": []
    },
    {
     "cell_type": "code",
     "collapsed": false,
     "input": [
      "# Transposing an array\n",
      "print(X.T)"
     ],
     "language": "python",
     "metadata": {},
     "outputs": []
    },
    {
     "cell_type": "code",
     "collapsed": false,
     "input": [
      "# Turning a row vector into a column vector\n",
      "y = np.linspace(0, 12, 5)\n",
      "print(y)"
     ],
     "language": "python",
     "metadata": {},
     "outputs": []
    },
    {
     "cell_type": "code",
     "collapsed": false,
     "input": [
      "# make into a column vector\n",
      "print(y[:, np.newaxis])"
     ],
     "language": "python",
     "metadata": {},
     "outputs": []
    },
    {
     "cell_type": "code",
     "collapsed": false,
     "input": [
      "# getting the shape or reshaping an array\n",
      "print(X.shape)\n",
      "print(X.reshape(5, 3))"
     ],
     "language": "python",
     "metadata": {},
     "outputs": []
    },
    {
     "cell_type": "code",
     "collapsed": false,
     "input": [
      "# indexing by an array of integers (fancy indexing)\n",
      "indices = np.array([3, 1, 0])\n",
      "print(indices)\n",
      "X[:, indices]"
     ],
     "language": "python",
     "metadata": {},
     "outputs": []
    },
    {
     "cell_type": "markdown",
     "metadata": {},
     "source": [
      "There is much, much more to know, but these few operations are fundamental to what we'll\n",
      "do during this tutorial."
     ]
    },
    {
     "cell_type": "heading",
     "level": 2,
     "metadata": {},
     "source": [
      "Scipy Sparse Matrices"
     ]
    },
    {
     "cell_type": "markdown",
     "metadata": {},
     "source": [
      "We won't make very much use of these in this tutorial, but sparse matrices are very nice\n",
      "in some situations.  In some machine learning tasks, especially those associated\n",
      "with textual analysis, the data may be mostly zeros.  Storing all these zeros is very\n",
      "inefficient, and representing in a way that only contains the \"non-zero\" values can be much more efficient.  We can create and manipulate sparse matrices as follows:"
     ]
    },
    {
     "cell_type": "code",
     "collapsed": false,
     "input": [
      "from scipy import sparse\n",
      "\n",
      "# Create a random array with a lot of zeros\n",
      "X = np.random.random((10, 5))\n",
      "print(X)"
     ],
     "language": "python",
     "metadata": {},
     "outputs": []
    },
    {
     "cell_type": "code",
     "collapsed": false,
     "input": [
      "# set the majority of elements to zero\n",
      "X[X < 0.7] = 0\n",
      "print(X)"
     ],
     "language": "python",
     "metadata": {},
     "outputs": []
    },
    {
     "cell_type": "code",
     "collapsed": false,
     "input": [
      "# turn X into a csr (Compressed-Sparse-Row) matrix\n",
      "X_csr = sparse.csr_matrix(X)\n",
      "print(X_csr)"
     ],
     "language": "python",
     "metadata": {},
     "outputs": []
    },
    {
     "cell_type": "code",
     "collapsed": false,
     "input": [
      "# convert the sparse matrix to a dense array\n",
      "print(X_csr.toarray())"
     ],
     "language": "python",
     "metadata": {},
     "outputs": []
    },
    {
     "cell_type": "markdown",
     "metadata": {},
     "source": [
      "The CSR representation can be very efficient for computations, but it is not\n",
      "as good for adding elements.  For that, the LIL (List-In-List) representation\n",
      "is better:"
     ]
    },
    {
     "cell_type": "code",
     "collapsed": false,
     "input": [
      "# Create an empty LIL matrix and add some items\n",
      "X_lil = sparse.lil_matrix((5, 5))\n",
      "\n",
      "for i, j in np.random.randint(0, 5, (15, 2)):\n",
      "    X_lil[i, j] = i + j\n",
      "\n",
      "print(X_lil)"
     ],
     "language": "python",
     "metadata": {},
     "outputs": []
    },
    {
     "cell_type": "code",
     "collapsed": false,
     "input": [
      "print(X_lil.toarray())"
     ],
     "language": "python",
     "metadata": {},
     "outputs": []
    },
    {
     "cell_type": "markdown",
     "metadata": {},
     "source": [
      "Often, once an LIL matrix is created, it is useful to convert it to a CSR format\n",
      "(many scikit-learn algorithms require CSR or CSC format)"
     ]
    },
    {
     "cell_type": "code",
     "collapsed": false,
     "input": [
      "print(X_lil.tocsr())"
     ],
     "language": "python",
     "metadata": {},
     "outputs": []
    },
    {
     "cell_type": "markdown",
     "metadata": {},
     "source": [
      "There are several other sparse formats that can be useful for various problems:\n",
      "\n",
      "- `CSC` (compressed sparse column)\n",
      "- `BSR` (block sparse row)\n",
      "- `COO` (coordinate)\n",
      "- `DIA` (diagonal)\n",
      "- `DOK` (dictionary of keys)\n",
      "\n",
      "The ``scipy.sparse`` submodule also has a lot of functions for sparse matrices\n",
      "including linear algebra, sparse solvers, graph algorithms, and much more."
     ]
    },
    {
     "cell_type": "heading",
     "level": 2,
     "metadata": {},
     "source": [
      "Matplotlib"
     ]
    },
    {
     "cell_type": "markdown",
     "metadata": {},
     "source": [
      "Another important part of machine learning is visualization of data.  The most common\n",
      "tool for this in Python is `matplotlib`.  It is an extremely flexible package, but\n",
      "we will go over some basics here.\n",
      "\n",
      "First, something special to IPython notebook.  We can turn on the \"IPython inline\" mode,\n",
      "which will make plots show up inline in the notebook."
     ]
    },
    {
     "cell_type": "code",
     "collapsed": false,
     "input": [
      "%matplotlib inline"
     ],
     "language": "python",
     "metadata": {},
     "outputs": []
    },
    {
     "cell_type": "code",
     "collapsed": false,
     "input": [
      "import matplotlib.pyplot as plt"
     ],
     "language": "python",
     "metadata": {},
     "outputs": []
    },
    {
     "cell_type": "code",
     "collapsed": false,
     "input": [
      "# plotting a line\n",
      "x = np.linspace(0, 10, 100)\n",
      "plt.plot(x, np.sin(x))"
     ],
     "language": "python",
     "metadata": {},
     "outputs": []
    },
    {
     "cell_type": "code",
     "collapsed": false,
     "input": [
      "# scatter-plot points\n",
      "x = np.random.normal(size=500)\n",
      "y = np.random.normal(size=500)\n",
      "plt.scatter(x, y)"
     ],
     "language": "python",
     "metadata": {},
     "outputs": []
    },
    {
     "cell_type": "code",
     "collapsed": false,
     "input": [
      "# showing images\n",
      "x = np.linspace(1, 12, 100)\n",
      "y = x[:, np.newaxis]\n",
      "\n",
      "im = y * np.sin(x) * np.cos(y)\n",
      "print(im.shape)"
     ],
     "language": "python",
     "metadata": {},
     "outputs": []
    },
    {
     "cell_type": "code",
     "collapsed": false,
     "input": [
      "# imshow - note that origin is at the top-left by default!\n",
      "plt.imshow(im)"
     ],
     "language": "python",
     "metadata": {},
     "outputs": []
    },
    {
     "cell_type": "code",
     "collapsed": false,
     "input": [
      "# Contour plot - note that origin here is at the bottom-left by default!\n",
      "plt.contour(im)"
     ],
     "language": "python",
     "metadata": {},
     "outputs": []
    },
    {
     "cell_type": "code",
     "collapsed": false,
     "input": [
      "# 3D plotting\n",
      "from mpl_toolkits.mplot3d import Axes3D\n",
      "ax = plt.axes(projection='3d')\n",
      "xgrid, ygrid = np.meshgrid(x, y.ravel())\n",
      "ax.plot_surface(xgrid, ygrid, im, cmap=plt.cm.jet, cstride=2, rstride=2, linewidth=0)"
     ],
     "language": "python",
     "metadata": {},
     "outputs": []
    },
    {
     "cell_type": "markdown",
     "metadata": {},
     "source": [
      "There are many, many more plot types available.  One useful way to explore these is by\n",
      "looking at the matplotlib gallery: http://matplotlib.org/gallery.html\n",
      "\n",
      "You can test these examples out easily in the notebook: simply copy the ``Source Code``\n",
      "link on each page, and put it in a notebook using the ``%load`` magic.\n",
      "For example:"
     ]
    },
    {
     "cell_type": "code",
     "collapsed": false,
     "input": [
      "# %load http://matplotlib.org/mpl_examples/pylab_examples/ellipse_collection.py\n",
      "import matplotlib.pyplot as plt\n",
      "import numpy as np\n",
      "from matplotlib.collections import EllipseCollection\n",
      "\n",
      "x = np.arange(10)\n",
      "y = np.arange(15)\n",
      "X, Y = np.meshgrid(x, y)\n",
      "\n",
      "XY = np.hstack((X.ravel()[:,np.newaxis], Y.ravel()[:,np.newaxis]))\n",
      "\n",
      "ww = X/10.0\n",
      "hh = Y/15.0\n",
      "aa = X*9\n",
      "\n",
      "fig, ax = plt.subplots()\n",
      "\n",
      "ec = EllipseCollection(ww, hh, aa, units='x', offsets=XY,\n",
      "                       transOffset=ax.transData)\n",
      "ec.set_array((X+Y).ravel())\n",
      "ax.add_collection(ec)\n",
      "ax.autoscale_view()\n",
      "ax.set_xlabel('X')\n",
      "ax.set_ylabel('y')\n",
      "cbar = plt.colorbar(ec)\n",
      "cbar.set_label('X+Y')\n",
      "plt.show()"
     ],
     "language": "python",
     "metadata": {},
     "outputs": []
    },
    {
     "cell_type": "code",
     "collapsed": true,
     "input": [],
     "language": "python",
     "metadata": {},
     "outputs": []
    }
   ],
   "metadata": {}
  }
 ]
}