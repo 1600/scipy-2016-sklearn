{
 "metadata": {
  "kernelspec": {
   "display_name": "Python 3",
   "language": "python",
   "name": "python3"
  },
  "language_info": {
   "codemirror_mode": {
    "name": "ipython",
    "version": 3
   },
   "file_extension": ".py",
   "mimetype": "text/x-python",
   "name": "python",
   "nbconvert_exporter": "python",
   "pygments_lexer": "ipython3",
   "version": "3.4.3"
  },
  "name": ""
 },
 "nbformat": 3,
 "nbformat_minor": 0,
 "worksheets": [
  {
   "cells": [
    {
     "cell_type": "heading",
     "level": 1,
     "metadata": {},
     "source": [
      "Introduction to Machine Learning in Python"
     ]
    },
    {
     "cell_type": "heading",
     "level": 2,
     "metadata": {},
     "source": [
      "What is Machine Learning?"
     ]
    },
    {
     "cell_type": "markdown",
     "metadata": {},
     "source": [
      "Machine learning is a process to automatically extract knowledge from data, usually with the goal of making predictions on new, unseen data. A classical example is a spam filter, for which the user keeps labeling incoming mails as either spam or not spam. A machine learning algorithm then \"learns\" what distinguishes spam from normal emails, and can predict for new emails whether they are spam or not.\n",
      "\n",
      "Central to machine learning is the concept of **making decisions automatically** from data, **without the user specifying explicit rules** how this decision should be made.\n",
      "\n",
      "For the case of emails, the user doesn't provide a list of words or characteristics that make an email spam. Instead, the user provides examples of spam and non-spam emails.\n",
      "\n",
      "The second central concept is **generalization**. The goal of a machine learning algorithm is to predict on new, previously unseen data. We are not interested in marking an email as spam or not if it has already been labeled by a  human. Instead, we want to make the user's life easier by making an automatic decision for new incoming mail."
     ]
    },
    {
     "cell_type": "markdown",
     "metadata": {},
     "source": [
      "![supervised workflow](figures/supervised_workflow.svg)"
     ]
    },
    {
     "cell_type": "markdown",
     "metadata": {},
     "source": [
      "The data presented to an algorithm is usually an array of numbers. Each data point (also known as a sample) that we want to either learn from or make a decision on is represented as a list of numbers, called features, that reflect properties of this point. Here is an example of how the data and labels for 5 emails might be represented for scikit-learn (TODO - crop this image)."
     ]
    },
    {
     "cell_type": "markdown",
     "metadata": {},
     "source": [
      "![data representation](figures/data_representation.svg)"
     ]
    },
    {
     "cell_type": "markdown",
     "metadata": {},
     "source": [
      "There are two kinds of machine learning we will talk about today: Supervised learning and unsupervised learning"
     ]
    },
    {
     "cell_type": "markdown",
     "metadata": {},
     "source": [
      "### Supervised Learning: Classification and regression\n",
      "\n",
      "In **Supervised Learning**, we have a dataset consisting of both input features and a desired output, such as in the spam / no-spam example.\n",
      "The task is to construct a model (or program) which is able to predict the desired output of an unseen object\n",
      "given the set of features.\n",
      "\n",
      "Some more complicated examples are:\n",
      "\n",
      "- given a multicolor image of an object through a telescope, determine\n",
      "  whether that object is a star, a quasar, or a galaxy.\n",
      "- given a photograph of a person, identify the person in the photo.\n",
      "- given a list of movies a person has watched and their personal rating\n",
      "  of the movie, recommend a list of movies they would like.\n",
      "- given a persons age, education and position, infer their salary\n",
      "\n",
      "What these tasks have in common is that there is one or more unknown\n",
      "quantities associated with the object which need to be determined from other\n",
      "observed quantities.\n",
      "\n",
      "Supervised learning is further broken down into two categories, **classification** and **regression**.\n",
      "In classification, the label is discrete, such as \"spam\" or \"no spam\". In other words, it provides a clear-cut distinction between categories. In regression, the label is continuous, that is a float ouput. For example\n",
      "in astronomy, the task of determining whether an object is a star, a galaxy, or a quasar is a\n",
      "classification problem: the label is from three distinct categories. On the other hand, we might\n",
      "wish to estimate the age of an object based on such observations: this would be a regression problem,\n",
      "because the label (age) is a continuous quantity.\n",
      "\n",
      "In supervised learning there is always a destinction between a **training set**, for which the desired outcome is given, and a **test set** for which the desired outcome needs to be inferred.\n"
     ]
    },
    {
     "cell_type": "markdown",
     "metadata": {},
     "source": [
      "### Unsupervised Learning\n",
      "\n",
      "In **Unsupervised Learning** there is no desired output associated with the data.\n",
      "Instead, we are interested in extracting some form of knowledge or model from the given data.\n",
      "In a sense, you can think of unsupervised learning as a means of discovering labels from the data itself.\n",
      "Unsupervised learning is often harder to understand and to evaluate.\n",
      "\n",
      "Unsupervised learning comprises tasks such as *dimensionality reduction*, *clustering*, and\n",
      "*density estimation*. As we\u2019ll see later, projections of data can be used to visualize datasets in two dimensions which is one simple form of unsupervised learning. Some more involved unsupervised learning problems are:\n",
      "\n",
      "- given detailed observations of distant galaxies, determine which features or combinations of\n",
      "  features summarize best the information.\n",
      "- given a mixture of two sound sources (for example, a person talking over some music),\n",
      "  separate the two (this is called the [blind source separation](http://en.wikipedia.org/wiki/Blind_signal_separation) problem).\n",
      "- given a video, isolate a moving object and categorize it in relation to other moving objects which have been seen.\n",
      "- given a large collection of news articles, find recurring topics inside these articles.\n",
      "- given a collection of images, cluster similar images together (for example to group them when visualizing a collection)\n",
      "\n",
      "Sometimes the two may even be combined: e.g. Unsupervised learning can be used to find useful\n",
      "features in heterogeneous data, and then these features can be used within a supervised\n",
      "framework."
     ]
    },
    {
     "cell_type": "code",
     "collapsed": true,
     "input": [],
     "language": "python",
     "metadata": {},
     "outputs": []
    }
   ],
   "metadata": {}
  }
 ]
}